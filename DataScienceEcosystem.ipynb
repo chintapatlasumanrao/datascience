{
 "cells": [
  {
   "cell_type": "markdown",
   "id": "871865bf-52c9-482a-b9c0-354de848f3fa",
   "metadata": {},
   "source": [
    "# Data Science Tools and Ecosystem"
   ]
  },
  {
   "cell_type": "markdown",
   "id": "12fa1d94-eae6-41ee-8003-6fc8beffc9ef",
   "metadata": {},
   "source": [
    "In this notebook, Data Science Tools and Ecosystem are summarized."
   ]
  },
  {
   "cell_type": "markdown",
   "id": "36e58183-487a-4b98-93fd-e68dd5509ae8",
   "metadata": {},
   "source": [
    "Some of the popular languages that Data Scientists use are:\n",
    "\n",
    "1. Python\n",
    "2. R\n",
    "3. SQL\n",
    "4. Scala\n",
    "5. Julia"
   ]
  },
  {
   "cell_type": "markdown",
   "id": "a4958e6f-08ec-4139-94e7-b32d5a5817d0",
   "metadata": {
    "tags": []
   },
   "source": [
    "Some of the commonly used libraries used by Data Scientists include:\n",
    "\n",
    "1. Pandas\n",
    "2. NumPy\n",
    "3. Matplotlib\n",
    "4. Seaborn\n",
    "5. Keras\n",
    "6. TensorFlow"
   ]
  },
  {
   "cell_type": "markdown",
   "id": "b49439f7-e6bf-4c63-8cfd-5e7cd1b61220",
   "metadata": {
    "tags": []
   },
   "source": [
    "|Data Science Tools|\n",
    "------------------\n",
    "|IBM Watson Studio|\n",
    "|Jupyter Lab|\n",
    "|R Studio|\n",
    "|Apache Zeppelin|\n",
    "|MySQL|\n",
    "|Hadoop HDFS|\n",
    "|Apache Airflow|\n",
    "|Apache Kafka|\n",
    "|Hue|\n",
    "|Apache Prediction IO|\n",
    "|TensorFlow Lite|\n",
    "|GitHub|"
   ]
  },
  {
   "cell_type": "markdown",
   "id": "cbcb3efe-cfec-4991-87d6-4b899c216afd",
   "metadata": {},
   "source": [
    "### Below are a few examples of evaluating arithmetic expressions in Python"
   ]
  },
  {
   "cell_type": "code",
   "execution_count": 3,
   "id": "61cb0fab-dda2-4630-8fdc-74173b422572",
   "metadata": {
    "tags": []
   },
   "outputs": [
    {
     "data": {
      "text/plain": [
       "17"
      ]
     },
     "execution_count": 3,
     "metadata": {},
     "output_type": "execute_result"
    }
   ],
   "source": [
    "# This a simple arithmetic expression to mutiply then add integers\n",
    "(3*4)+5"
   ]
  },
  {
   "cell_type": "code",
   "execution_count": 5,
   "id": "897c4b5b-5b2c-4ac9-b6b7-8dcd76a0c082",
   "metadata": {},
   "outputs": [
    {
     "data": {
      "text/plain": [
       "3.3333333333333335"
      ]
     },
     "execution_count": 5,
     "metadata": {},
     "output_type": "execute_result"
    }
   ],
   "source": [
    "# This will convert 200 minutes to hours by diving by 60\n",
    "(200/60)"
   ]
  },
  {
   "cell_type": "markdown",
   "id": "82be2e1c-524b-4009-8a4b-67580c1f2029",
   "metadata": {},
   "source": [
    "**Objectives:**\n",
    "+ List popular languages for Data Science\n",
    "+ Commonly used libraries used by Data Scientists\n",
    "+ Evaluating arithmetic expressions in Python\n",
    "+ Data Science Tools"
   ]
  },
  {
   "cell_type": "markdown",
   "id": "176603b5-2707-43e8-9ddf-ff6c127fe36c",
   "metadata": {},
   "source": [
    "## Author\n",
    "Suman Chintapatla"
   ]
  },
  {
   "cell_type": "code",
   "execution_count": null,
   "id": "475e8705-c86a-415a-b1a3-1f6cda9a74a8",
   "metadata": {},
   "outputs": [],
   "source": []
  }
 ],
 "metadata": {
  "kernelspec": {
   "display_name": "Python",
   "language": "python",
   "name": "conda-env-python-py"
  },
  "language_info": {
   "codemirror_mode": {
    "name": "ipython",
    "version": 3
   },
   "file_extension": ".py",
   "mimetype": "text/x-python",
   "name": "python",
   "nbconvert_exporter": "python",
   "pygments_lexer": "ipython3",
   "version": "3.7.12"
  }
 },
 "nbformat": 4,
 "nbformat_minor": 5
}
